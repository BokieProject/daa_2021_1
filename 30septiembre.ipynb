{
  "nbformat": 4,
  "nbformat_minor": 0,
  "metadata": {
    "colab": {
      "name": "30septiembre.ipynb",
      "provenance": [],
      "authorship_tag": "ABX9TyORTxL9C0Ds5ck6W2rnF8AC",
      "include_colab_link": true
    },
    "kernelspec": {
      "name": "python3",
      "display_name": "Python 3"
    }
  },
  "cells": [
    {
      "cell_type": "markdown",
      "metadata": {
        "id": "view-in-github",
        "colab_type": "text"
      },
      "source": [
        "<a href=\"https://colab.research.google.com/github/BokieProject/daa_2021_1/blob/master/30septiembre.ipynb\" target=\"_parent\"><img src=\"https://colab.research.google.com/assets/colab-badge.svg\" alt=\"Open In Colab\"/></a>"
      ]
    },
    {
      "cell_type": "code",
      "metadata": {
        "id": "JhwXirtZPyKA"
      },
      "source": [
        ""
      ],
      "execution_count": null,
      "outputs": []
    },
    {
      "cell_type": "markdown",
      "metadata": {
        "id": "oArZDyEkQQZf"
      },
      "source": [
        "# Palíndromos\n",
        "Es una palabra ue se lee, de igal forma de un sentido y de sentido iverso, ejempos:\n",
        "1. sugus\n",
        "1. oso\n",
        "1. reconocer\n",
        "1. 10101\n",
        "2. 10:01\n",
        "etc.\n",
        "### se desean encontar todos los palindromos que se existen en la franja horaria de un dia completo, tomando como horario inicial las 00:00  y como horario final las 23:59 horas.\n",
        "El algoritmo debe mostrar en pantalla todos los palindromos existentesen ese rango, al final debe mostrar el conteo de total de palindromos existentes.\n"
      ]
    },
    {
      "cell_type": "code",
      "metadata": {
        "id": "B_TSh_7yV5bZ",
        "outputId": "ee94bd59-f84a-41e7-b20d-67adec7d010f",
        "colab": {
          "base_uri": "https://localhost:8080/",
          "height": 425
        }
      },
      "source": [
        "\n",
        "reloj=\"0000\"\n",
        "while reloj!=\"2359\":\n",
        "  inv=reloj[::-1]\n",
        "  if reloj==inv:\n",
        "    print(reloj)\n",
        "  nuevo=int(reloj)\n",
        "  nuevo+=1\n",
        "  reloj=str(nuevo).zfill(4)"
      ],
      "execution_count": 18,
      "outputs": [
        {
          "output_type": "stream",
          "text": [
            "0000\n",
            "0110\n",
            "0220\n",
            "0330\n",
            "0440\n",
            "0550\n",
            "0660\n",
            "0770\n",
            "0880\n",
            "0990\n",
            "1001\n",
            "1111\n",
            "1221\n",
            "1331\n",
            "1441\n",
            "1551\n",
            "1661\n",
            "1771\n",
            "1881\n",
            "1991\n",
            "2002\n",
            "2112\n",
            "2222\n",
            "2332\n"
          ],
          "name": "stdout"
        }
      ]
    }
  ]
}