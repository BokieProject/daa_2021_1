{
  "nbformat": 4,
  "nbformat_minor": 0,
  "metadata": {
    "colab": {
      "name": "30septiembre.ipynb",
      "provenance": [],
      "authorship_tag": "ABX9TyPGb/VzvN/UGHxDqz+jHQvQ",
      "include_colab_link": true
    },
    "kernelspec": {
      "name": "python3",
      "display_name": "Python 3"
    }
  },
  "cells": [
    {
      "cell_type": "markdown",
      "metadata": {
        "id": "view-in-github",
        "colab_type": "text"
      },
      "source": [
        "<a href=\"https://colab.research.google.com/github/BokieProject/daa_2021_1/blob/master/30septiembre.ipynb\" target=\"_parent\"><img src=\"https://colab.research.google.com/assets/colab-badge.svg\" alt=\"Open In Colab\"/></a>"
      ]
    },
    {
      "cell_type": "code",
      "metadata": {
        "id": "JhwXirtZPyKA"
      },
      "source": [
        ""
      ],
      "execution_count": null,
      "outputs": []
    },
    {
      "cell_type": "markdown",
      "metadata": {
        "id": "oArZDyEkQQZf"
      },
      "source": [
        "# Palíndromos\n",
        "Es una palabra ue se lee, de igal forma de un sentido y de sentido iverso, ejempos:\n",
        "1. sugus\n",
        "1. oso\n",
        "1. reconocer\n",
        "1. 10101\n",
        "2. 10:01\n",
        "etc.\n",
        "### se desean encontar todos los palindromos que se existen en la franja horaria de un dia completo, tomando como horario inicial las 00:00  y como horario final las 23:59 horas.\n",
        "El algoritmo debe mostrar en pantalla todos los palindromos existentesen ese rango, al final debe mostrar el conteo de total de palindromos existentes.\n"
      ]
    },
    {
      "cell_type": "code",
      "metadata": {
        "id": "B_TSh_7yV5bZ",
        "outputId": "99903363-71ef-4979-d87f-5fdb9d89215c",
        "colab": {
          "base_uri": "https://localhost:8080/",
          "height": 306
        }
      },
      "source": [
        "reloj=\"0000\"\n",
        "contador=0\n",
        "while reloj!=\"2359\":\n",
        "\n",
        "  inv=reloj[::-1]\n",
        "  if reloj==inv and int(reloj[2])<=5:\n",
        "    contador+=1\n",
        "    print(reloj[0:2],\":\",reloj[2:4])\n",
        "  new=int(reloj)\n",
        "  new+=1\n",
        "  reloj=str(new).zfill(4)\n",
        "print(\"son \",contador,\"palindromos\")"
      ],
      "execution_count": 20,
      "outputs": [
        {
          "output_type": "stream",
          "text": [
            "00 : 00\n",
            "01 : 10\n",
            "02 : 20\n",
            "03 : 30\n",
            "04 : 40\n",
            "05 : 50\n",
            "10 : 01\n",
            "11 : 11\n",
            "12 : 21\n",
            "13 : 31\n",
            "14 : 41\n",
            "15 : 51\n",
            "20 : 02\n",
            "21 : 12\n",
            "22 : 22\n",
            "23 : 32\n",
            "son  16 palindromos\n"
          ],
          "name": "stdout"
        }
      ]
    }
  ]
}