{
  "nbformat": 4,
  "nbformat_minor": 0,
  "metadata": {
    "colab": {
      "name": "2octubre_1358.ipynb",
      "provenance": [],
      "authorship_tag": "ABX9TyMg4AgP0KSuoPJkwxVUCMXl",
      "include_colab_link": true
    },
    "kernelspec": {
      "name": "python3",
      "display_name": "Python 3"
    }
  },
  "cells": [
    {
      "cell_type": "markdown",
      "metadata": {
        "id": "view-in-github",
        "colab_type": "text"
      },
      "source": [
        "<a href=\"https://colab.research.google.com/github/BokieProject/daa_2021_1/blob/master/2octubre_1358.ipynb\" target=\"_parent\"><img src=\"https://colab.research.google.com/assets/colab-badge.svg\" alt=\"Open In Colab\"/></a>"
      ]
    },
    {
      "cell_type": "code",
      "metadata": {
        "id": "RGVOAB8kiYzZ"
      },
      "source": [
        ""
      ],
      "execution_count": null,
      "outputs": []
    },
    {
      "cell_type": "markdown",
      "metadata": {
        "id": "F35BHjVOidcg"
      },
      "source": [
        "## Meteorología en México\n",
        "En Sistema meteorológico nacional lleva el registro de la lluvias desde el año 1985 y lo pone a disposición de la población por medio de la pagina datos.gob.mx.\n",
        "\n",
        "En la siguiente liga se encuentran 2  archivos separados por comas CSV correspondientes a los registros de lluvias\n",
        "mensuales y anuales de los años 2017 y 2018. En los columnas se encuentran 13,  correspondientes al promedio mensual y el promedio anual.\n",
        "En los renglones se encuentran 33, correspondientes a cada uno de los 32 estados y a nivel nacional.\n",
        "\n",
        "https://drive.google.com/file/d/1lamkxgq2AsXRu81Y4JTNXLVld4og7nxt/view?usp=sharing\n",
        "\n",
        "\n",
        "## Planteamiento del problema\n",
        "Diseñar un algoritmo y programarlo para que:\n",
        "1. Solicite por teclado el año, el estado y el mes, en base a esa información:\n",
        "- muestre en pantalla el promedio de ese mes en ese estado en el año seleccionado.\n",
        "- muestre en pantalla el promedio anual del  estado seleccionado.\n",
        "- muestre la suma de los 12 meses de ese estado en el año seleccionado.\n",
        "\n",
        "2. Busque el mes que mas llovió en todos los estados durante esos dos años. Imprimir año, estado y mes.\n",
        "3. Busque el mes que menos llovió en los dos. Imprimir año, estado y mes."
      ]
    },
    {
      "cell_type": "code",
      "metadata": {
        "id": "5JOTTc_cmZ1v"
      },
      "source": [
        "f = open('2017Precip2.csv', 'r')\n",
        "mensaje = f.read()\n",
        "print(mensaje)\n",
        "f.close()"
      ],
      "execution_count": null,
      "outputs": []
    },
    {
      "cell_type": "code",
      "metadata": {
        "id": "UuKd4gOeulwJ"
      },
      "source": [
        "import pandas as pd\n",
        "datos=pd.read_csv('2017Precip2.csv',header=1)\n",
        "print(datos[5:5])"
      ],
      "execution_count": null,
      "outputs": []
    },
    {
      "cell_type": "code",
      "metadata": {
        "id": "sv2L_D7queJz"
      },
      "source": [
        "with open('2017Precip2.csv','r') as archivo:\n",
        "  lineas=archivo.read().splitlines()\n",
        "  lineas.pop(0)\n",
        "  for i in lineas:\n",
        "   lineas=i.split(',')\n",
        "   print (lineas)"
      ],
      "execution_count": null,
      "outputs": []
    },
    {
      "cell_type": "code",
      "metadata": {
        "id": "hX1EDEVL23gr",
        "outputId": "d26ae2c6-1020-4bbe-cfa8-178da83b3e09",
        "colab": {
          "base_uri": "https://localhost:8080/",
          "height": 612
        }
      },
      "source": [
        "import csv\n",
        "def calcular(anio,mes,estado):\n",
        "  if anio==2017:\n",
        "    archivo=\"2017Precip2.csv\"\n",
        "  elif anio==2018:\n",
        "    archivo=\"2018Precip2.csv\"\n",
        "  linea=0\n",
        "  columna=0\n",
        "  mesSelect=\"\"\n",
        "  with open(archivo,newline=\"\") as File:\n",
        "        reader = csv.reader(File)\n",
        "        for row in reader:\n",
        "            if reader.line_num==2:\n",
        "              for meses in row:\n",
        "                if meses == mes:\n",
        "                  mesSelect=meses\n",
        "\n",
        "  with open(archivo,newline=\"\") as File:\n",
        "      reader = csv.reader(File)\n",
        "      for row in reader:\n",
        "        if(mesSelect==\"ENE\"):\n",
        "          print(row[1])\n",
        "        \n",
        "\n",
        "calcular(2017,\"ENE\",1)"
      ],
      "execution_count": 19,
      "outputs": [
        {
          "output_type": "stream",
          "text": [
            "PRECIPITACI�N A NIVEL NACIONAL Y POR ENTIDAD FEDERATIVA\n",
            "ENE\n",
            "0.4 \n",
            "53.6 \n",
            "8.4 \n",
            "16.1 \n",
            "2.6 \n",
            "0.0 \n",
            "36.8 \n",
            "12.3 \n",
            "0.0 \n",
            "1.3 \n",
            "0.2 \n",
            "0.2 \n",
            "3.1 \n",
            "0.3 \n",
            "0.1 \n",
            "0.1 \n",
            "0.0 \n",
            "0.5 \n",
            "10.2 \n",
            "6.1 \n",
            "4.4 \n",
            "0.7 \n",
            "30.5 \n",
            "1.7 \n",
            "3.8 \n",
            "41.6 \n",
            "84.3 \n",
            "8.3 \n",
            "0.4 \n",
            "36.9 \n",
            "19.5 \n",
            "0.4 \n",
            "14.6 \n"
          ],
          "name": "stdout"
        }
      ]
    }
  ]
}