{
  "nbformat": 4,
  "nbformat_minor": 0,
  "metadata": {
    "colab": {
      "name": "30Noviembre.ipynb",
      "provenance": [],
      "authorship_tag": "ABX9TyOOSjEv27eaLEwR7TqUCurl",
      "include_colab_link": true
    },
    "kernelspec": {
      "name": "python3",
      "display_name": "Python 3"
    }
  },
  "cells": [
    {
      "cell_type": "markdown",
      "metadata": {
        "id": "view-in-github",
        "colab_type": "text"
      },
      "source": [
        "<a href=\"https://colab.research.google.com/github/BokieProject/daa_2021_1/blob/master/30Noviembre.ipynb\" target=\"_parent\"><img src=\"https://colab.research.google.com/assets/colab-badge.svg\" alt=\"Open In Colab\"/></a>"
      ]
    },
    {
      "cell_type": "code",
      "metadata": {
        "colab": {
          "base_uri": "https://localhost:8080/"
        },
        "id": "2ndkNbj73DzF",
        "outputId": "d208f135-8810-469b-9a91-68f37d8b4094"
      },
      "source": [
        "A = \"AELASESLALSALSALSALSALSALASLSLSLSLSALALALALASALSALLSALAS\"\n",
        "P = \"SAL\"\n",
        "N = len(A)\n",
        "M = len(P)\n",
        "def fuerza_bruta(A,P):\n",
        "  for i in range ( N-M+1 ):\n",
        "    for j in range ( M ):\n",
        "        if A[i+j] != P[j]:\n",
        "            break\n",
        "        else:\n",
        "          pass\n",
        "    if j+1 == M and A[ i+j] == P[j]:\n",
        "      print(\"Encontrado en la pisicion: \",i)\n",
        "fuerza_bruta(A,P)"
      ],
      "execution_count": 1,
      "outputs": [
        {
          "output_type": "stream",
          "text": [
            "Encontrado en la pisicion:  10\n",
            "Encontrado en la pisicion:  13\n",
            "Encontrado en la pisicion:  16\n",
            "Encontrado en la pisicion:  19\n",
            "Encontrado en la pisicion:  22\n",
            "Encontrado en la pisicion:  34\n",
            "Encontrado en la pisicion:  44\n",
            "Encontrado en la pisicion:  47\n",
            "Encontrado en la pisicion:  51\n"
          ],
          "name": "stdout"
        }
      ]
    },
    {
      "cell_type": "markdown",
      "metadata": {
        "id": "fX7ry-Lg3WQO"
      },
      "source": [
        "\n",
        "La coplejidad de este algoritmo es :\n",
        "\n",
        "O( (N-M) * M)"
      ]
    }
  ]
}