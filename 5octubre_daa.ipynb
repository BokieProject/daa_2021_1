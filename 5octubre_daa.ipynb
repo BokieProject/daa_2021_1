{
  "nbformat": 4,
  "nbformat_minor": 0,
  "metadata": {
    "colab": {
      "name": "5octubre_daa.ipynb",
      "provenance": [],
      "authorship_tag": "ABX9TyOWPe+/jC4IQj4ic9J5VfHw",
      "include_colab_link": true
    },
    "kernelspec": {
      "name": "python3",
      "display_name": "Python 3"
    }
  },
  "cells": [
    {
      "cell_type": "markdown",
      "metadata": {
        "id": "view-in-github",
        "colab_type": "text"
      },
      "source": [
        "<a href=\"https://colab.research.google.com/github/BokieProject/daa_2021_1/blob/master/5octubre_daa.ipynb\" target=\"_parent\"><img src=\"https://colab.research.google.com/assets/colab-badge.svg\" alt=\"Open In Colab\"/></a>"
      ]
    },
    {
      "cell_type": "code",
      "metadata": {
        "id": "iPV-WH50-8FC"
      },
      "source": [
        ""
      ],
      "execution_count": null,
      "outputs": []
    },
    {
      "cell_type": "markdown",
      "metadata": {
        "id": "cevOxFVL_dtK"
      },
      "source": [
        "#Estructura de datos Pila (Stack)\n",
        "- Last In First Out (LIFO)\n",
        "- De tipo lineal\n",
        "- Se pueden ingresar y sacar datos desde el tope\n",
        "- Push para agregar\n",
        "- Pop para sacar\n",
        " ## Operaciones de las pilas\n",
        "1. is_empty (regresa un true o false)\n",
        "2. get_top (regresa el elemento en el tope, sin sacarlo)\n",
        "3. pop (saca el elemento del tope y lo muestra)\n",
        "4. push (mete un elemento en el tope)\n",
        "5. get_length (regresa el numero de elementos de la pila)"
      ]
    },
    {
      "cell_type": "code",
      "metadata": {
        "id": "otB2jDBiCr8n"
      },
      "source": [
        "class Stack:\n",
        "  def __init__(self):\n",
        "    self.__datos=[]\n",
        "\n",
        "  def is_empty( self):\n",
        "    return len(self.__datos)== 0\n",
        "\n",
        "  def get_top(self):\n",
        "    return self.__datos[-1]\n",
        "\n",
        "  def pop(self):\n",
        "    return self.__datos.pop()\n",
        "\n",
        "  def push (self, valor):\n",
        "    self.__datos.append(valor)\n",
        "\n",
        "  def get_length(self):\n",
        "    return len(self.__datos)\n",
        "\n",
        "  def to_string(self):\n",
        "    print(\"---------------\")\n",
        "    for ele in self.__datos[-1::-1]:\n",
        "      print(f\"{ele}\")"
      ],
      "execution_count": 19,
      "outputs": []
    },
    {
      "cell_type": "code",
      "metadata": {
        "id": "QQOLbnD8FShP"
      },
      "source": [
        "pila1 = Stack()\n",
        "pila1.push(15)\n",
        "pila1.push(16)\n",
        "pila1.push(13)\n",
        "pila1.push(12)\n",
        "pila1.push(113)\n",
        "pila1.to_string()\n",
        "\n",
        "sacado = pila1.pop()\n",
        "print(sacado)\n",
        "pila1.to_string()\n",
        "\n",
        "pila1.push(444)\n",
        "pila1.push(233)\n",
        "pila1.to_string()\n",
        "\n",
        "print(f\"El elemento en el tope es :{ pila1.get_top() } \")\n",
        "pila1.to_string()\n",
        "print(f\"La pila tiene {pila1.get_length()} elementos\")\n",
        "print(f\"La pila esta vacia?:  {pila1.is_empty()} \")"
      ],
      "execution_count": null,
      "outputs": []
    },
    {
      "cell_type": "markdown",
      "metadata": {
        "id": "L9mXG-dxJSeM"
      },
      "source": [
        "# ejemplo de aplicacion de pilas\n",
        "x = 4 + 5 + 6  + 3\n",
        "\n",
        "x = 4 + ( 5 + 6 ) + 3\n",
        "\n",
        "x = 4 + ( 5 + 6 ) + 3\n",
        "\n",
        "if(a==b) { System.out.println(b)\n",
        "\n",
        "if(a==) { System.out.println(b}\n",
        "\n",
        "# reglas\n",
        "### '(' ---> push('@')\n",
        "### '(' ---> pop()\n",
        "Si al final del recorrido la pila esta vacia, entonces la cadena es correcta.\n",
        "\n",
        "Si en un pop desencadena en querersacar un elemento de la pila vacia significa qe la cadena no esta balanceada.\n",
        "\n"
      ]
    },
    {
      "cell_type": "markdown",
      "metadata": {
        "id": "Hpxf4saDNk_C"
      },
      "source": [
        "# Tarea\n",
        "Hacer  un programa que valide el balanceo de '()', '[]' y '{}' en programas de lenguaje C yJava.\n",
        "tomando como base el codigo de la clase."
      ]
    }
  ]
}