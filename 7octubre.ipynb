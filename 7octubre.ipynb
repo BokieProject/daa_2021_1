{
  "nbformat": 4,
  "nbformat_minor": 0,
  "metadata": {
    "colab": {
      "name": "7octubre.ipynb",
      "provenance": [],
      "include_colab_link": true
    },
    "kernelspec": {
      "name": "python3",
      "display_name": "Python 3"
    }
  },
  "cells": [
    {
      "cell_type": "markdown",
      "metadata": {
        "id": "view-in-github",
        "colab_type": "text"
      },
      "source": [
        "<a href=\"https://colab.research.google.com/github/BokieProject/daa_2021_1/blob/master/7octubre.ipynb\" target=\"_parent\"><img src=\"https://colab.research.google.com/assets/colab-badge.svg\" alt=\"Open In Colab\"/></a>"
      ]
    },
    {
      "cell_type": "markdown",
      "metadata": {
        "id": "wQQmpOmGSQbC"
      },
      "source": [
        "#Búsqueda lineal\n",
        "\n",
        "Dada un conjunto de datos ordenados , la busqueda lineal consiste en recorrer el conjunto de datos desde el inicio al final, movinedose de uno en uno hasta encotrar el elemento o llegar al final  del conjunto.\n",
        "\n",
        "datos = [ 4,18,47,2,34,14,78,12,48,21,31,19,1,3,5 ]\n",
        "\n",
        "# Búsqueda binaria\n",
        "\n",
        "Funciona sobre un conjunto de datos lineal ordenado \n",
        "Consiste en dividir el conjunto en mitades y bucar en esa mitad. Si el elemento buscado no esta en la mitad, preguntas si el elemento esta a la derecha o a la izquierda.\n",
        "Haces la lista igual a la mitad correspondiente y repites el proceso\n",
        "\n",
        "L = [1, 2, 3, 4, 5, 12, 14, 18, 19, 21, 31, 34, 47, 48, 78]\n",
        "\n",
        "DER = longitud( L ) - 1 \n",
        "\n",
        "IZQ = 0\n",
        "\n",
        "MID  apuntar a la mitad del segmento de busqueda \n",
        "\n",
        "buscando: es el valor a buscar (47)\n",
        "\n",
        "1. Hacer DeR = longitud(L) -1\n",
        "2. Hacer IZQ = 0\n",
        "3.si IZQ > DER significa que hay un error en los datos\n",
        "4. calcular MID = int( (IZQ + DER)/2)\n",
        "5. mientras L[MID] != buscando hacer\n",
        "6.      - preguntarL [MID] > buscando\n",
        "            - hacer DER = mid\n",
        "        - de lo contrario\n",
        "            - hacer IZQ = mid\n",
        "        - preguntarL (DER-IZQ)%2\n",
        "            - MID = (IZQ+((DER-IZQ)/2))+1   \n",
        "        - de lo contrario \n",
        "            - MID = IZQ+((DER-IZQ)/2)\n",
        "7. return MID\n",
        "\n",
        "        \n"
      ]
    },
    {
      "cell_type": "code",
      "metadata": {
        "id": "0JL9xvrPSIXx",
        "outputId": "44386f95-60bf-4aed-9065-791e7d0c9297",
        "colab": {
          "base_uri": "https://localhost:8080/"
        }
      },
      "source": [
        "\"\"\"\n",
        "Busqueda lineal \n",
        "regresa la posicion de elemento 'buscado' si se encuentra dentro de la lista.\n",
        "regresa -1 si el elemento buscado no existe dentro de la lista \n",
        "\"\"\"\n",
        "\n",
        "def busqueda_lineal( L , buscado ):\n",
        "  indice = -1\n",
        "  contador = 0\n",
        "  for idx in range(len(L)):\n",
        "    contador += 1\n",
        "    if L[idx]==buscado:\n",
        "      indice=idx\n",
        "      break\n",
        "  print(f\"nbumero de comparaciones realizadas={contador}\")\n",
        "  return indice\n",
        "\n",
        "\"\"\"\n",
        "Busqueda binaria\n",
        "\"\"\"\n",
        "def busqeda_binaria(L, buscando):\n",
        "    IZQ = o\n",
        "    DER = len (L) -1\n",
        "    MID = int (IZQ + DER)/2)\n",
        "    if len (L) % 2==0:\n",
        "        MID = (DER//2)+1\n",
        "    else:\n",
        "        MID = DER//2\n",
        "        \n",
        "    while (L[MID]!= buscando):\n",
        "\n",
        "        if L[MID] > buscando:\n",
        "            DER = MID\n",
        "        else:\n",
        "            IZQ = MID\n",
        "        if (DER - IZQ) % 2 ==0:\n",
        "            MID = (IZQ+((DER-IZQ)//2))+1\n",
        "        else:\n",
        "            MID = IZQ + ((DER-IZQ)//2)\n",
        "    return MID\n",
        "\n",
        "\n",
        "def main():\n",
        "  datos = [ 4,18,47,2,34,14,78,12,48,21,31,19,1,3,5 ]\n",
        "  dato = int(input(\"¿Que valor quieres buscar?: \"))\n",
        "  resultado=busqueda_lineal(datos,dato)\n",
        "  print(\"Resultado:\",resultado)\n",
        "\n",
        "  print(\"busqueda lineal en una lista ordenada\")\n",
        "  datos.sort()\n",
        "  print(datos)\n",
        "  resultado=busqueda_lineal(datos,dato)\n",
        "  print(\"Resultado:\",resultado)\n",
        "  \n",
        "\n",
        "main()"
      ],
      "execution_count": null,
      "outputs": [
        {
          "output_type": "stream",
          "text": [
            "¿Que valor quieres buscar?: 3\n",
            "nbumero de comparaciones realizadas=14\n",
            "Resultado: 13\n",
            "busqueda lineal en una lista ordenada\n",
            "[1, 2, 3, 4, 5, 12, 14, 18, 19, 21, 31, 34, 47, 48, 78]\n",
            "nbumero de comparaciones realizadas=3\n",
            "Resultado: 2\n"
          ],
          "name": "stdout"
        }
      ]
    }
  ]
}