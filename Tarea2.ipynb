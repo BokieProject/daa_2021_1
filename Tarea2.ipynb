{
  "nbformat": 4,
  "nbformat_minor": 0,
  "metadata": {
    "colab": {
      "name": "Tarea2.ipynb",
      "provenance": [],
      "authorship_tag": "ABX9TyMmQPnwQixHDiDIiFN+9DlO",
      "include_colab_link": true
    },
    "kernelspec": {
      "name": "python3",
      "display_name": "Python 3"
    }
  },
  "cells": [
    {
      "cell_type": "markdown",
      "metadata": {
        "id": "view-in-github",
        "colab_type": "text"
      },
      "source": [
        "<a href=\"https://colab.research.google.com/github/BokieProject/daa_2021_1/blob/master/Tarea2.ipynb\" target=\"_parent\"><img src=\"https://colab.research.google.com/assets/colab-badge.svg\" alt=\"Open In Colab\"/></a>"
      ]
    },
    {
      "cell_type": "code",
      "metadata": {
        "id": "pkHmSMW3yWjw"
      },
      "source": [
        "class Base:\n",
        "    def __init__ (self):\n",
        "     self.dato= []\n",
        "\n",
        "    def get_top (self):\n",
        "        return self.dato[-1]\n",
        "        \n",
        "    def vacio (self):\n",
        "        return len(self.dato) == 0\n",
        "\n",
        "    def push (self, valor):\n",
        "        return self.dato.append(valor)\n",
        "\n",
        "    def pop (self):\n",
        "        return self.dato.pop()\n",
        "\n",
        "    def get_length (self):\n",
        "        return len(self.dato)\n",
        "\n",
        "    def imprime (self):\n",
        "        print (\"-------------\\n\")\n",
        "        for lista in self.dato[-1::-1]:\n",
        "            print (lista)\n",
        "        print (\"-------------\\n\")\n",
        "\n",
        "\n",
        "print (\"Ingrese la operación: \\n \")\n",
        "\n",
        "valor = input() \n",
        "print(\"\\n\")\n",
        "\n",
        "pila = Base()\n",
        "pila2 = Base()    \n",
        "\n",
        "for ele in range (0,len(valor)):\n",
        "    p = valor[ele]\n",
        "\n",
        "    if p ==  '(':\n",
        "        pila.push (p)\n",
        "    if p ==  '{':\n",
        "        pila.push (p)\n",
        "    if p ==  '[':\n",
        "        pila.push (p)\n",
        "\n",
        "    if p ==  ')':\n",
        "       pila.pop ()\n",
        "    if p ==  '}':\n",
        "       pila.pop ()\n",
        "    if p ==  ']':\n",
        "        pila.pop ()\n",
        "    \n",
        "    ele+=1\n",
        "\n",
        "\n",
        "if pila.vacio():\n",
        "    print(f\"No hay error en la validacion de parentesis\\n\")\n",
        "\n",
        "\n",
        "print(\"Pila\")\n",
        "pila.imprime()\n",
        "print(f\"{pila.get_length()}\\n\")\n",
        "\n",
        "if pila.get_length() > 0:\n",
        "    print(f\"Hace falta que se cierre un parentesis\\n\")"
      ],
      "execution_count": 3,
      "outputs": []
    }
  ]
}