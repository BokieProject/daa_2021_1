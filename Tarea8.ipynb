{
  "nbformat": 4,
  "nbformat_minor": 0,
  "metadata": {
    "colab": {
      "name": "Tarea8.ipynb",
      "provenance": [],
      "authorship_tag": "ABX9TyMjLzEuTa5IGt1T56Xtgqsu",
      "include_colab_link": true
    },
    "kernelspec": {
      "name": "python3",
      "display_name": "Python 3"
    }
  },
  "cells": [
    {
      "cell_type": "markdown",
      "metadata": {
        "id": "view-in-github",
        "colab_type": "text"
      },
      "source": [
        "<a href=\"https://colab.research.google.com/github/BokieProject/daa_2021_1/blob/master/Tarea8.ipynb\" target=\"_parent\"><img src=\"https://colab.research.google.com/assets/colab-badge.svg\" alt=\"Open In Colab\"/></a>"
      ]
    },
    {
      "cell_type": "code",
      "metadata": {
        "colab": {
          "base_uri": "https://localhost:8080/"
        },
        "id": "XWhjiFsCPK-7",
        "outputId": "b7995f0e-44f6-42bc-c81f-c18c6d5ff9ac"
      },
      "source": [
        "num=[22,3,45,5]\r\n",
        "def suma(num,total=0):\r\n",
        "  if len(num)==0:\r\n",
        "    return total\r\n",
        "  else:\r\n",
        "    tmp=num[0]\r\n",
        "    num.remove(num[0])\r\n",
        "    total+=tmp\r\n",
        "    return suma(num,total)\r\n",
        "\r\n",
        "suma(num)"
      ],
      "execution_count": 1,
      "outputs": [
        {
          "output_type": "execute_result",
          "data": {
            "text/plain": [
              "75"
            ]
          },
          "metadata": {
            "tags": []
          },
          "execution_count": 1
        }
      ]
    },
    {
      "cell_type": "code",
      "metadata": {
        "colab": {
          "base_uri": "https://localhost:8080/"
        },
        "id": "jI3OTSwMPOCy",
        "outputId": "4c304bc7-30c3-4de3-987f-67d898ee8aea"
      },
      "source": [
        "def regresivo(num):\r\n",
        "  if num>=0:\r\n",
        "    print(num)\r\n",
        "    regresivo(num-1)\r\n",
        "\r\n",
        "regresivo(5)"
      ],
      "execution_count": 2,
      "outputs": [
        {
          "output_type": "stream",
          "text": [
            "5\n",
            "4\n",
            "3\n",
            "2\n",
            "1\n",
            "0\n"
          ],
          "name": "stdout"
        }
      ]
    },
    {
      "cell_type": "code",
      "metadata": {
        "colab": {
          "base_uri": "https://localhost:8080/"
        },
        "id": "ukZ2h094PUn3",
        "outputId": "c2ee86fd-4ddc-45f5-8866-cd9864a04929"
      },
      "source": [
        "pila=[32,3,3,8,253,6,3]\r\n",
        "n=len(pila)\r\n",
        "def sacarValorPosicionMedia(contador=0):\r\n",
        "  if contador<(n//2):\r\n",
        "    tmp=pila.pop()\r\n",
        "    sacarValorPosicionMedia(contador+1)\r\n",
        "    pila.append(tmp)\r\n",
        "  if contador==(n//2):\r\n",
        "    print(\"valor sacado: \",pila.pop())\r\n",
        "    sacarValorPosicionMedia(contador+1)\r\n",
        "  else:\r\n",
        "    return pila\r\n",
        "\r\n",
        "pila=sacarValorPosicionMedia(0)\r\n",
        "print(pila)"
      ],
      "execution_count": 3,
      "outputs": [
        {
          "output_type": "stream",
          "text": [
            "valor sacado:  8\n",
            "[32, 3, 3, 253, 6, 3]\n"
          ],
          "name": "stdout"
        }
      ]
    }
  ]
}