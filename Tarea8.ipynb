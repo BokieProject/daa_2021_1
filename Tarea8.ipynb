{
  "nbformat": 4,
  "nbformat_minor": 0,
  "metadata": {
    "colab": {
      "name": "Tarea8.ipynb",
      "provenance": [],
      "authorship_tag": "ABX9TyMNprKRrwoQ/eWV8oaWjgX4",
      "include_colab_link": true
    },
    "kernelspec": {
      "name": "python3",
      "display_name": "Python 3"
    }
  },
  "cells": [
    {
      "cell_type": "markdown",
      "metadata": {
        "id": "view-in-github",
        "colab_type": "text"
      },
      "source": [
        "<a href=\"https://colab.research.google.com/github/BokieProject/daa_2021_1/blob/master/Tarea8.ipynb\" target=\"_parent\"><img src=\"https://colab.research.google.com/assets/colab-badge.svg\" alt=\"Open In Colab\"/></a>"
      ]
    },
    {
      "cell_type": "code",
      "metadata": {
        "colab": {
          "base_uri": "https://localhost:8080/"
        },
        "id": "lVC2PzS8XJmi",
        "outputId": "3abe71a6-589a-4fdf-b810-09f1b56fd395"
      },
      "source": [
        "alumno1={'id':2, 'nombre':\"Juan\" , 'carrera':\"ICO\", 'promedio':7.67}\r\n",
        "alumno2={'id':4, 'nombre':\"Rocio\" , 'carrera':\"ICI\", 'promedio':8.67}\r\n",
        "alumno3={'id':5, 'nombre':\"Diego\" , 'carrera':\"DER\", 'promedio':8.98}\r\n",
        "alumno4={'id':7, 'nombre':\"May\" , 'carrera':\"ICI\", 'promedio':9.87}\r\n",
        "alumno5={'id':9, 'nombre':\"Rob\" , 'carrera':\"IME\", 'promedio':10.00}\r\n",
        "alumno6={'id':10, 'nombre':\"Santi\" , 'carrera':\"ICO\", 'promedio':5.37}\r\n",
        "alumno7={'id':14, 'nombre':\"Moy\" , 'carrera':\"IME\", 'promedio':6.85}\r\n",
        "alumno8={'id':16, 'nombre':\"Diana\" , 'carrera':\"DER\", 'promedio':9.99}\r\n",
        "alumno9={'id':19, 'nombre':\"Zoila\" , 'carrera':\"ICO\", 'promedio':8.22}\r\n",
        "alumno10={'id':22, 'nombre':\"Armando\" , 'carrera':\"ICO\", 'promedio':7.32}\r\n",
        "\r\n",
        "bd = []\r\n",
        "bd.append(alumno1)\r\n",
        "bd.append(alumno2)\r\n",
        "bd.append(alumno3)\r\n",
        "bd.append(alumno4)\r\n",
        "bd.append(alumno5)\r\n",
        "bd.append(alumno6)\r\n",
        "bd.append(alumno7)\r\n",
        "bd.append(alumno8)\r\n",
        "bd.append(alumno9)\r\n",
        "bd.append(alumno10)\r\n",
        "\r\n",
        "n=len(bd)\r\n",
        "def busquedaBinaria(bd,idAlumno,izq=0,der=n):\r\n",
        "  med=(izq+der)//2\r\n",
        "  if izq>=der:\r\n",
        "    print(\"El alumno no existe en la base de datos.\")\r\n",
        "  elif bd[med][\"id\"]==idAlumno:\r\n",
        "    print(bd[med][\"nombre\"], \"estudia la carrera\",bd[med][\"carrera\"],\"y tiene un promedio de\",bd[med][\"promedio\"])\r\n",
        "  elif idAlumno<bd[med][\"id\"]:\r\n",
        "    busquedaBinaria(bd,idAlumno,izq,med)\r\n",
        "  elif idAlumno>bd[med][\"id\"]:\r\n",
        "    busquedaBinaria(bd,idAlumno,med+1,der)\r\n",
        "\r\n",
        "id=0    \r\n",
        "while id!=-1:\r\n",
        "  print(\"introduce (-1) para salir\")\r\n",
        "  id=int(input(\"dame el id del alumno a buscar: \"))\r\n",
        "  if id!=-1:\r\n",
        "    busquedaBinaria(bd,id)"
      ],
      "execution_count": 1,
      "outputs": [
        {
          "output_type": "stream",
          "text": [
            "introduce (-1) para salir\n",
            "dame el id del alumno a buscar: 2\n",
            "Juan estudia la carrera ICO y tiene un promedio de 7.67\n",
            "introduce (-1) para salir\n",
            "dame el id del alumno a buscar: -1\n"
          ],
          "name": "stdout"
        }
      ]
    }
  ]
}