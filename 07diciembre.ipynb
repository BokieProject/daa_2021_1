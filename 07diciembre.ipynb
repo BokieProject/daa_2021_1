{
  "nbformat": 4,
  "nbformat_minor": 0,
  "metadata": {
    "colab": {
      "name": "07diciembre.ipynb",
      "provenance": [],
      "authorship_tag": "ABX9TyPMoatbAbf9g9X0e1wexCoi",
      "include_colab_link": true
    },
    "kernelspec": {
      "name": "python3",
      "display_name": "Python 3"
    }
  },
  "cells": [
    {
      "cell_type": "markdown",
      "metadata": {
        "id": "view-in-github",
        "colab_type": "text"
      },
      "source": [
        "<a href=\"https://colab.research.google.com/github/BokieProject/daa_2021_1/blob/master/07diciembre.ipynb\" target=\"_parent\"><img src=\"https://colab.research.google.com/assets/colab-badge.svg\" alt=\"Open In Colab\"/></a>"
      ]
    },
    {
      "cell_type": "code",
      "metadata": {
        "id": "tELvVlL1T5vw"
      },
      "source": [
        "def fnRecInfinita():\n",
        "  print(\"hola\")\n",
        "  fnRecInfinita()\n",
        "\n",
        "def fnrec(x):\n",
        "  if x==0:\n",
        "    print(\"stop\")\n",
        "  else:\n",
        "    fnrec(x-1)\n",
        "    print(x)"
      ],
      "execution_count": null,
      "outputs": []
    },
    {
      "cell_type": "code",
      "metadata": {
        "id": "elS4jP-lUBCG"
      },
      "source": [
        "print(\"inicio del programa\")\n",
        "fnrec(5)\n",
        "print(\"Fin del programa\")"
      ],
      "execution_count": null,
      "outputs": []
    },
    {
      "cell_type": "code",
      "metadata": {
        "id": "dLHEnh8tUCm1"
      },
      "source": [
        "fnRecInfinita()"
      ],
      "execution_count": null,
      "outputs": []
    },
    {
      "cell_type": "code",
      "metadata": {
        "id": "p1NUhnB5UEJF"
      },
      "source": [
        "def printRev(n):\n",
        "  if n>0:\n",
        "    print(n)\n",
        "    printRev(n-1)\n",
        "\n",
        "printRev(10)"
      ],
      "execution_count": null,
      "outputs": []
    },
    {
      "cell_type": "code",
      "metadata": {
        "id": "KiN30EASUI0t"
      },
      "source": [
        "def fibonacci(n):\n",
        "  print(\"llamada:\",n)\n",
        "  if n==1 or n==0:\n",
        "    return n\n",
        "  else:\n",
        "    return (fibonacci(n-1)+fibonacci(n-2))\n",
        "\n",
        "print(fibonacci(3))"
      ],
      "execution_count": null,
      "outputs": []
    },
    {
      "cell_type": "code",
      "metadata": {
        "id": "zx5MYvqoUKkn"
      },
      "source": [
        "def merge_sort(arreglo,izquierda,derecha):\n",
        "  if izquierda>=derecha:\n",
        "    return\n",
        "  \n",
        "  mitad= (izquierda+derecha)//2\n",
        "  marge_sort(arreglo,izquierda,mitad)\n",
        "  marge_sort(arreglo,mitad+1,derecha)\n",
        "  print(\"llamar Merge\")\n",
        "  merge(arreglo,izquierda,derecha,mitad)"
      ],
      "execution_count": null,
      "outputs": []
    }
  ]
}