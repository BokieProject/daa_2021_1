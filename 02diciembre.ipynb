{
  "nbformat": 4,
  "nbformat_minor": 0,
  "metadata": {
    "colab": {
      "name": "02diciembre.ipynb",
      "provenance": [],
      "authorship_tag": "ABX9TyPoZscgaPqC7ccahoeFwd8V",
      "include_colab_link": true
    },
    "kernelspec": {
      "name": "python3",
      "display_name": "Python 3"
    }
  },
  "cells": [
    {
      "cell_type": "markdown",
      "metadata": {
        "id": "view-in-github",
        "colab_type": "text"
      },
      "source": [
        "<a href=\"https://colab.research.google.com/github/BokieProject/daa_2021_1/blob/master/02diciembre.ipynb\" target=\"_parent\"><img src=\"https://colab.research.google.com/assets/colab-badge.svg\" alt=\"Open In Colab\"/></a>"
      ]
    },
    {
      "cell_type": "code",
      "metadata": {
        "id": "UJr-HiZAPzdI"
      },
      "source": [
        "def fnRecInfinita():\n",
        "  print(\"hola\")\n",
        "  fnRecInfinita()\n",
        "\n",
        "def fnrec(x):\n",
        "  if x==0:\n",
        "    print(\"stop\")\n",
        "  else:\n",
        "    fnrec(x-1)\n",
        "    print(x)"
      ],
      "execution_count": 1,
      "outputs": []
    },
    {
      "cell_type": "code",
      "metadata": {
        "colab": {
          "base_uri": "https://localhost:8080/"
        },
        "id": "6qHQpojeP7ak",
        "outputId": "6dafe6c2-0752-49fc-8b42-ce3679d1054e"
      },
      "source": [
        "print(\"inicio del programa\")\n",
        "fnrec(5)\n",
        "print(\"Fin del programa\")"
      ],
      "execution_count": 2,
      "outputs": [
        {
          "output_type": "stream",
          "text": [
            "inicio del programa\n",
            "stop\n",
            "1\n",
            "2\n",
            "3\n",
            "4\n",
            "5\n",
            "Fin del programa\n"
          ],
          "name": "stdout"
        }
      ]
    },
    {
      "cell_type": "code",
      "metadata": {
        "id": "ijEIver7P7tk"
      },
      "source": [
        "fnRecInfinita()"
      ],
      "execution_count": null,
      "outputs": []
    },
    {
      "cell_type": "code",
      "metadata": {
        "colab": {
          "base_uri": "https://localhost:8080/"
        },
        "id": "aDAbBl1TQBOT",
        "outputId": "da29730e-bc58-4f44-dc25-10611a120aff"
      },
      "source": [
        "def printRev(n):\n",
        "  if n>0:\n",
        "    print(n)\n",
        "    printRev(n-1)\n",
        "\n",
        "printRev(10)"
      ],
      "execution_count": 4,
      "outputs": [
        {
          "output_type": "stream",
          "text": [
            "10\n",
            "9\n",
            "8\n",
            "7\n",
            "6\n",
            "5\n",
            "4\n",
            "3\n",
            "2\n",
            "1\n"
          ],
          "name": "stdout"
        }
      ]
    },
    {
      "cell_type": "code",
      "metadata": {
        "colab": {
          "base_uri": "https://localhost:8080/"
        },
        "id": "aWsP6BheQD0y",
        "outputId": "d72f1446-9800-477d-c86d-6bcefa2a298a"
      },
      "source": [
        "def fibonacci(n):\n",
        "  if n==1 or n==0:\n",
        "    return n\n",
        "  else:\n",
        "    return (fibonacci(n-1)+fibonacci(n-2))\n",
        "\n",
        "print(fibonacci(9))"
      ],
      "execution_count": 5,
      "outputs": [
        {
          "output_type": "stream",
          "text": [
            "34\n"
          ],
          "name": "stdout"
        }
      ]
    }
  ]
}